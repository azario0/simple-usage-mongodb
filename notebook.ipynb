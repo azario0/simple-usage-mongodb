{
 "cells": [
  {
   "cell_type": "markdown",
   "metadata": {},
   "source": [
    "# Exportation des donnee a mongodb et sauvegard du model"
   ]
  },
  {
   "cell_type": "code",
   "execution_count": 26,
   "metadata": {},
   "outputs": [
    {
     "name": "stdout",
     "output_type": "stream",
     "text": [
      "Model trained and saved as 'temperature_model.pkl'\n"
     ]
    }
   ],
   "source": [
    "# Import necessary libraries\n",
    "import pymongo\n",
    "import pandas as pd\n",
    "import numpy as np\n",
    "from sklearn.model_selection import train_test_split\n",
    "from sklearn.linear_model import LinearRegression\n",
    "import joblib\n",
    "# Connect to MongoDB\n",
    "client = pymongo.MongoClient(\"mongodb://localhost:27017/\")\n",
    "db = client[\"temperatureDB\"]\n",
    "collection = db[\"temperatureCollection\"]\n",
    "# Clear the collection if it already exists\n",
    "collection.delete_many({})\n",
    "# Manually enter the data (Example Data)\n",
    "data = {\n",
    "    \"Celsius\": [ce for ce in range(50)],\n",
    "    \"Fahrenheit\": [(c * 9/5) + 32 for c in [ce for ce in range(50)]],\n",
    "    \"Kelvin\": [c + 273.15 for c in [ce for ce in range(50)]]\n",
    "}\n",
    "# Convert to DataFrame\n",
    "df = pd.DataFrame(data)\n",
    "# Insert data into MongoDB\n",
    "collection.insert_many(df.to_dict('records'))\n",
    "# Fetch the data from MongoDB\n",
    "data_from_db = collection.find()\n",
    "df_from_db = pd.DataFrame(list(data_from_db))\n",
    "df_from_db.drop('_id', axis=1, inplace=True)\n",
    "# Separate features and target\n",
    "X = df_from_db[['Fahrenheit', 'Kelvin']]\n",
    "y = df_from_db['Celsius']\n",
    "# Split the data into training and testing sets\n",
    "X_train, X_test, y_train, y_test = train_test_split(X, y, test_size=0.2, random_state=42)\n",
    "# Train the linear regression model\n",
    "model = LinearRegression()\n",
    "model.fit(X_train, y_train)\n",
    "# Save the trained model\n",
    "joblib.dump(model, 'temperature_model.pkl')\n",
    "print(\"Model trained and saved as 'temperature_model.pkl'\")\n"
   ]
  },
  {
   "cell_type": "markdown",
   "metadata": {},
   "source": [
    "# Prediction"
   ]
  },
  {
   "cell_type": "code",
   "execution_count": 27,
   "metadata": {},
   "outputs": [
    {
     "name": "stdout",
     "output_type": "stream",
     "text": [
      "Mean Squared Error: 1.7165613297609216e-28\n",
      "Coefficients: [ 0.62843766 -0.13118778]\n",
      "Intercept: 15.72393787234737\n"
     ]
    }
   ],
   "source": [
    "y_pred = model.predict(X_test)\n",
    "\n",
    "# Evaluate the model\n",
    "mse = mean_squared_error(y_test, y_pred)\n",
    "print(f\"Mean Squared Error: {mse}\")\n",
    "\n",
    "# Print model coefficients\n",
    "print(f\"Coefficients: {model.coef_}\")\n",
    "print(f\"Intercept: {model.intercept_}\")\n"
   ]
  }
 ],
 "metadata": {
  "kernelspec": {
   "display_name": "Python 3",
   "language": "python",
   "name": "python3"
  },
  "language_info": {
   "codemirror_mode": {
    "name": "ipython",
    "version": 3
   },
   "file_extension": ".py",
   "mimetype": "text/x-python",
   "name": "python",
   "nbconvert_exporter": "python",
   "pygments_lexer": "ipython3",
   "version": "3.11.4"
  },
  "orig_nbformat": 4
 },
 "nbformat": 4,
 "nbformat_minor": 2
}
